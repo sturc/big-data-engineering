{
 "cells": [
  {
   "cell_type": "markdown",
   "metadata": {},
   "source": [
    "# N-Grams Feature Generation"
   ]
  },
  {
   "cell_type": "code",
   "execution_count": null,
   "metadata": {},
   "outputs": [],
   "source": [
    "import sys\n",
    "sys.path.append(\"..\")\n",
    "import glob\n",
    "import os\n",
    "from helpers.data_prep_and_print import print_df\n",
    "from pyspark.sql.functions import lit, col, startswith\n",
    "from pyspark.sql.types import StructType, StringType\n",
    "from pyspark.ml.feature import NGram, Tokenizer\n",
    "from pyspark.sql import SparkSession"
   ]
  },
  {
   "cell_type": "code",
   "execution_count": null,
   "metadata": {},
   "outputs": [],
   "source": [
    "# Create local StreamingContext with a batch interval of 10s\n",
    "spark = (SparkSession.builder\n",
    "           .appName(\"N-Gram Creation\")\n",
    "           .getOrCreate())\n",
    "spark.sparkContext.setLogLevel(\"ERROR\")"
   ]
  },
  {
   "cell_type": "markdown",
   "metadata": {},
   "source": [
    "## Read in the Data Files"
   ]
  },
  {
   "cell_type": "code",
   "execution_count": null,
   "metadata": {},
   "outputs": [],
   "source": [
    "schema = StructType() \\\n",
    "      .add(\"label\",StringType(),True) \\\n",
    "      .add(\"sentence\",StringType(),True)\n",
    "input_folder = \"../data/labeled_articles/\"\n",
    "file_list=glob.glob(\"../data/labeled_articles/*.txt\")\n",
    "dfs = []\n",
    "for filename in file_list:\n",
    "    temp_df = spark.read.option('header', 'false') \\\n",
    "        .option(\"delimiter\", \"  \") \\\n",
    "        .schema(schema) \\\n",
    "        .csv(file_list)\n",
    "    temp_df= temp_df.withColumn(\"filename\", lit(os.path.basename(filename)))\n",
    "    dfs.append(temp_df)\n",
    "union_df = dfs[0]\n",
    "for df in dfs[1:]:\n",
    "    union_df = union_df.union(df)\n",
    "\n",
    "union_df = union_df.where(~(col(\"label\").startswith(\"###\")))\n",
    "print(union_df.count())\n",
    "union_df.printSchema()\n",
    "print_df(union_df, 5)"
   ]
  },
  {
   "cell_type": "markdown",
   "metadata": {},
   "source": [
    "## Build N-Grams"
   ]
  },
  {
   "cell_type": "code",
   "execution_count": null,
   "metadata": {},
   "outputs": [],
   "source": [
    "tokenizer = Tokenizer(inputCol=\"sentence\", outputCol=\"words\")\n",
    "tokenized_df = tokenizer.transform(union_df)\n",
    "ngram = NGram(n=2, inputCol=\"words\", outputCol=\"ngrams\")\n",
    "ngram_df = ngram.transform(tokenized_df)\n",
    "print_df(ngram_df, 5)"
   ]
  },
  {
   "cell_type": "code",
   "execution_count": null,
   "metadata": {},
   "outputs": [],
   "source": [
    "spark.stop()"
   ]
  }
 ],
 "metadata": {
  "kernelspec": {
   "display_name": "venv",
   "language": "python",
   "name": "python3"
  },
  "language_info": {
   "codemirror_mode": {
    "name": "ipython",
    "version": 3
   },
   "file_extension": ".py",
   "mimetype": "text/x-python",
   "name": "python",
   "nbconvert_exporter": "python",
   "pygments_lexer": "ipython3",
   "version": "3.11.9"
  }
 },
 "nbformat": 4,
 "nbformat_minor": 2
}
